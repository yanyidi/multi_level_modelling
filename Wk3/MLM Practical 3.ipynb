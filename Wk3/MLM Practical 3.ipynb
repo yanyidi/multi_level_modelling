{
 "cells": [
  {
   "cell_type": "markdown",
   "metadata": {},
   "source": [
    "### Estimating Random Slope Models ###"
   ]
  },
  {
   "cell_type": "markdown",
   "metadata": {},
   "source": [
    "The previous practical investigated country differences in hedonism after controlling for individuals' age, education and gender. \n",
    "\n",
    "Random Intercept models (as constructed in the last tutorial) assume that the relationship between hedonism and each of the independent variables is the same across countries. Is that actually true? Are there for example country differences in the relationship between hedonism and age? To address this question, we will need to fit a model which allows the relationship between hedonism and income to differ across countries: a random slopes model.\n",
    "\n",
    "By the end of this session you will know,\n",
    "\n",
    "    1) The appropriate R syntax to run an random slope model\n",
    "    2) How to interpret random slopes in substantive terms\n",
    "    3) How to calculate VPC measures in the presence of random slopes\n",
    "\n"
   ]
  },
  {
   "cell_type": "markdown",
   "metadata": {},
   "source": [
    "The syntax below loads the R packages needed for this session.  These packages were all introduced in previous sessions, and details of them can be found in those notebooks."
   ]
  },
  {
   "cell_type": "code",
   "execution_count": null,
   "metadata": {},
   "outputs": [],
   "source": [
    "library (foreign)\n",
    "library (lme4)\n",
    "library (lattice)"
   ]
  },
  {
   "cell_type": "markdown",
   "metadata": {},
   "source": [
    "### The Dataset ###"
   ]
  },
  {
   "cell_type": "markdown",
   "metadata": {},
   "source": [
    "The file \"hedon_slopes.dta\" is a modified version of the dataset used in the tutorial that introduced Random Intercept models.  \n",
    "It contains the following variables:\n",
    "\n",
    "    1) age -    Respondent's age in years \n",
    "    2) female - 0 if respondent male, 1 if respondent female \n",
    "    3) eduyrs - Number of years of education of respondent \n",
    "    \n",
    "N.B in contrast to the dataset used in the Random Intercept none of the variables in this dataset have any missing data.  This ensures that all models will use identical samples, and hence allows Log Likelihood Ratio Tests to be used to compare model fit.  This does mean that the results of models which appear identical to those conducted in the previous session may yield slightly different results.\n",
    "\n",
    "### Creating Variance Component and Random Intercept Models###\n",
    "\n",
    "Using the command box below:-\n",
    "\n",
    "    1) Import the \"hedon_slopes.dta\" into a dataframe.\n",
    "    2) Run a Variance Component Model with the variable \"hed\" as the dependent variable - store this model in an object\n",
    "    3) Center the continuous variables \"age\" and \"eduyrs\" on their respective grand means\n",
    "    4) Run a Random Intercept Model with \"hed\" as the dependent variable, and a respondent's age, gender and experience of  education as independent variables."
   ]
  },
  {
   "cell_type": "code",
   "execution_count": null,
   "metadata": {},
   "outputs": [],
   "source": [
    "hedon <- read.dta(\"hedon_slopes.dta\")\n",
    "summary(hedon)\n",
    "\n",
    "meanage <- mean (hedon$age, na.rm=TRUE)\n",
    "hedon$agecen = hedon$age-meanage\n",
    "\n",
    "meanedu <- mean (hedon$eduyrs, na.rm=TRUE)\n",
    "hedon$educen = hedon$eduyrs-meanedu\n",
    "\n",
    "summary(hedon)\n",
    "\n",
    "hedvc <- lmer (hed~(1|country), data = hedon, REML=FALSE)\n",
    "summary (hedvc)\n",
    "\n",
    "hedri <- lmer (hed~agecen+educen+female+(1|country), data = hedon, REML=FALSE)\n",
    "summary (hedri)\n",
    "\n",
    "anova (hedvc,hedri)"
   ]
  },
  {
   "cell_type": "markdown",
   "metadata": {},
   "source": [
    "### Fitting and Interpreting a Random Slope Model  - Does the Impact of Gender Vary Betwen Countries?###"
   ]
  },
  {
   "cell_type": "markdown",
   "metadata": {},
   "source": [
    "Consider the relationship between being female and hedonism (the random intercept model suggests a highly significant negative relationship - females are less hedonistic).  It's reasonable to ask if gender has an equal impact on hedonism in different countries.  \n",
    "\n",
    "A random slope model provides a mechanism to answer such questions.\n",
    "\n",
    "The command for running a multilevel model with education and age as fixed effects and gender as a random effect is shown below.  This syntax is essentially identical to the random intercept model with the exception that the 'female' variable appars twice in the equation (once as a fixed effect and once as a ransom effect varying by country).\n",
    "\n",
    "\n"
   ]
  },
  {
   "cell_type": "code",
   "execution_count": null,
   "metadata": {},
   "outputs": [],
   "source": [
    "rs.gen <<- lmer (hed~agecen+educen+female+(1+female|country), data = hedon, REML=FALSE)\n",
    "summary (rs.gen)"
   ]
  },
  {
   "cell_type": "markdown",
   "metadata": {},
   "source": [
    "The output rom a random slope model contains the same broad ections as the random intercept model.  Output concerning the random slope appears in the \"Random effects\" section.\n",
    "\n",
    "The first line of that section once again details variation in the random intercept (akin to the ransom effect in the random intercept model).  The second line labelled \"female\" concers the new random slope.  As was the case with the random intercept, the output provides an estimation of the variance in the relationship between gender and hedonism across countries, along with a standard deviation for that variation.  The column headed \"Corr\" provide a mesure of the correlation between a countris random intercept and the same countries random effect for gender.\n",
    "\n",
    "In this case, there appears to be a strong positive correlation suggesting that a country which is towards the upper end of the distributions for interepts will also be relatively high up in the distribution of random effects for being female.\n",
    "\n",
    "Given the fixed effect for female is negative, what does the correlation of random effects mean in terms of whetehr a country with a high intercept will have a larger, or smaller, gender difference?  What does this mean in sucstantie terms?"
   ]
  },
  {
   "cell_type": "markdown",
   "metadata": {},
   "source": [
    "### Testing the Significance of Random Slopes ###"
   ]
  },
  {
   "cell_type": "markdown",
   "metadata": {},
   "source": [
    "Once again, the log-likelihood ratio test can be used to establish if the addition of the random slope has improved the fit of the model (and hence offer evidence that the strenght of the relationship between gender and hedonism varies between countries).  In this case, the test is conducted by comparing the random slope model to the equivilent random intercept model, as shown in the command box below.\n",
    "\n",
    "In this case, the random slope model involves two extra parameters (the variance in the slope, and the correlation of the slope with the intercept) so the critical value is taken from the chi-square distribution with two degrees of freedom.\n",
    "\n",
    "The output of th command below indicates the random slope model is a substansial improvment in model fit compared to the random slope.  hence it can be argued that the impact of gender on hedonism does vary between countries."
   ]
  },
  {
   "cell_type": "code",
   "execution_count": null,
   "metadata": {},
   "outputs": [],
   "source": [
    "anova (rs.gen, hedri)"
   ]
  },
  {
   "cell_type": "markdown",
   "metadata": {},
   "source": [
    "### Does The Impact of Age on Hedonism Vary Between Countries? ###"
   ]
  },
  {
   "cell_type": "markdown",
   "metadata": {},
   "source": [
    "Given the syntax explained above, it would seem reasonable to conclude that the command below will run a random slope model which allows the impact of age to vary between countries."
   ]
  },
  {
   "cell_type": "code",
   "execution_count": null,
   "metadata": {},
   "outputs": [],
   "source": [
    "rs.age <<- lmer (hed~agecen+educen+female+(1+age|country), data = hedon, REML=FALSE)\n",
    "summary (rs.age)"
   ]
  },
  {
   "cell_type": "markdown",
   "metadata": {},
   "source": [
    "However, while model output is provided, it should be noted that a warning message suggests that the model has failed to converge.  Furthermore, the variation in the effect of age would appear to be extremly small (note it is given as a number e-05).\n",
    "\n",
    "Such a result may suggest that there is very little variation in the effect of age on hedonism between countries. Yet the provisional loglikelihood value for the model is -46547.5 compared to -46641.9 for the random intercept model.  A log-likelihood ratio test of these values would suggest that a model with a random effect for age is a better fit for the data than random intercept model.\n",
    "\n",
    "Why might the variance of the random slopes on age to be very small?  Remember that the variance depends on the scale of x. Age is measured in years, with a standard deviation of 18.11 for this dataset. The slope for age measures the average increase in hedonism for an extra year of age and the variance of the slopes measures the difference in the increase in hedonism for an extra year of age for country j compared to the average increase in hedonism for an extra year of age in the whole dataset. The standard deviation of hed is only 0.98. When we compare this to the standard deviation of age we can see that we will expect the slopes to be small. On top of that, recall that variance is the square of standard deviation, and that when you square a number smaller than 1, the answer has twice as many zeros before the first non-zero number after the decimal point.\n",
    "\n",
    "One way round this is to create a new variable equal to age/100. The smaller values of this variable should make the slopes correspondingly bigger and the variance should also increase. Centre the new variable and run the random slopes model with the new variable:\n"
   ]
  },
  {
   "cell_type": "code",
   "execution_count": null,
   "metadata": {},
   "outputs": [],
   "source": [
    "hedon$agesmall <-hedon$age/100\n",
    "meanagesmall <- mean (hedon$agesmall, na.rm=TRUE)\n",
    "hedon$agesmallcen = hedon$agesmall-meanagesmall\n",
    "\n",
    "rs.age2 <<- lmer (hed~agesmallcen+educen+female+(1+agesmallcen|country), data = hedon, REML=FALSE)\n",
    "summary (rs.age2)"
   ]
  },
  {
   "cell_type": "markdown",
   "metadata": {},
   "source": [
    "Comparing the output for \"rs.age2\" (above) to the original model (\"rs.age\") shows that the transformation of the age variable has changed the overall model fit statistics.  Therefore, any log-liklihood ratio test intended to establish if the random slope on age substansially improves model fit will need to be taken against a random intercept modle which employs the same transformed age variable.\n",
    "\n",
    "Run a random intercept model using the newly taransformed age variable.\n",
    "\n",
    "Establish if the random slope for age substansially improves model fit.\n",
    "\n",
    "What is the average impact of a one year increase in age on hedonism in the model rs.age2 (remember that the age variable has been rescaled)?"
   ]
  },
  {
   "cell_type": "markdown",
   "metadata": {},
   "source": [
    "### Does the Impact of Eduction on Hedonism Vary Between Countries?###\n",
    "\n",
    "Run an appropriate model to test if the effect of years of completed education on hedonism varies between countries.  \n",
    "\n",
    "You should establish if the impact of education varies between countries.  \n",
    "\n",
    "If so, how is the impact of education related to a countries intercept value?  \n",
    "\n",
    "What substantive interpretation would you give to this model?\n"
   ]
  },
  {
   "cell_type": "markdown",
   "metadata": {},
   "source": [
    "### Including More Than One Random Slope ###"
   ]
  },
  {
   "cell_type": "markdown",
   "metadata": {},
   "source": [
    "Adding multiple random effects to a model is very simple in terms of the synatx required.  The additional random effects simply need to be added to the random part of the \"lmer\" command.  For instace, the command below runs a random slope model where the effects of both age and gender are llowed to vary between countries."
   ]
  },
  {
   "cell_type": "code",
   "execution_count": null,
   "metadata": {},
   "outputs": [],
   "source": [
    "rs.dual <<- lmer (hed~agesmallcen+educen+female+(1+agesmallcen+female|country), data = hedon, REML=FALSE)\n",
    "summary (rs.dual)"
   ]
  },
  {
   "cell_type": "markdown",
   "metadata": {},
   "source": [
    "The output for a random effects model with more than one random slope is essentially the same as for a model with a single random slope (as discussed above), with one exception.  There re now three correlations concerning random effects, and they are presented in a triangle.  \n",
    "\n",
    "This table is best read one column at a time.  The first column provides correlations between the distribution of random intercepts and each random slope, i.e. there is a positive correlation of 0.71 between the distribution of random intercepts and the distribution of random slopes relating to age, and correlation of 0.76 between the distribution of intercepts and the distribution of random effects for the variable \"female\".\n",
    "\n",
    "The second column of the table concerns correlations with the second random effect in the model (in this case age), so there is a positive correlation of 0.56 between the distribution of random effects for age and the distribution of random effects for gender.\n",
    "\n",
    "Does the model including random effects for age and gender represent an improvment in model fit?\n",
    "\n",
    "As above, the log-likelihood ratio test can answer this question.  However, there is an interesting question as to what the comparrison model should be.  Run log-liklihood ratio tests to compare model \"rs.dual\" to an equivilent random intercept model, and to an equivilent random slope model in which only age is a random effect.  What do these comparrisons tell you in substantive terms?"
   ]
  },
  {
   "cell_type": "markdown",
   "metadata": {},
   "source": [
    "### Calculating the level-2 variance and the VPC ###"
   ]
  },
  {
   "cell_type": "markdown",
   "metadata": {},
   "source": [
    "When calculating VPC in a random slope model, the formula changes to reflect all the points at which variation occurs in the model.  Hence the formula looks substansilly more complex than in the case of a VPC, or random intercept, model."
   ]
  },
  {
   "attachments": {
    "image.png": {
     "image/png": "[encoded data removed]"
    }
   },
   "cell_type": "markdown",
   "metadata": {},
   "source": [
    "![image.png](attachment:image.png)"
   ]
  },
  {
   "cell_type": "markdown",
   "metadata": {},
   "source": [
    "Consider the original random slope model (rs.gen) from earlier in this tutorial."
   ]
  },
  {
   "cell_type": "code",
   "execution_count": null,
   "metadata": {},
   "outputs": [],
   "source": [
    "summary (rs.gen)"
   ]
  },
  {
   "cell_type": "markdown",
   "metadata": {},
   "source": [
    "In this case the total Level 2 variance is now 0.06507+0.01126 = 0.07633 (the variance in the intercept plus the variance in the effect of gender).\n",
    "\n",
    "Total variance is 0.06507+0.01126+0.78037 = 0.8567 (both soures of level 2 variance plus the level 1 variance)\n",
    "\n",
    "VPC = 0.07633/0.8567 = 0.0891 = 8.9%\n"
   ]
  },
  {
   "cell_type": "markdown",
   "metadata": {},
   "source": [
    "### Plotting Residuals ###"
   ]
  },
  {
   "cell_type": "markdown",
   "metadata": {},
   "source": [
    "In the previous tutorial the \"ranef\" command was employed to extract the values for each country in terms of their random inetrcept, while combining that command with \"dotplot\" produced a caterpillar plot of these random effects.\n",
    "\n",
    "Both of these command generalise to multiple random effects in the case of a random slope model."
   ]
  },
  {
   "cell_type": "code",
   "execution_count": null,
   "metadata": {},
   "outputs": [],
   "source": [
    "rsgenrand <- ranef(rs.gen)\n",
    "rsgenrand\n",
    "dotplot(ranef(rs.gen))"
   ]
  },
  {
   "cell_type": "markdown",
   "metadata": {},
   "source": [
    "Looking back at the models run earlier in this session, which country is the most hedonistic after controlling for age, education and gender and allowing for the relationships between hedonism and age and gender to differ across countries? Draw an appropriate caterpillar plot to illustrate your answer. "
   ]
  },
  {
   "cell_type": "markdown",
   "metadata": {},
   "source": [
    "### Plotting Fixed and Random Effects ###"
   ]
  },
  {
   "cell_type": "markdown",
   "metadata": {},
   "source": [
    "The syntax for producing caterpillar plots of random effects has been shown above (and in the tutorial on random intercept models).  However, it can also be useful to produce plots of the explanatory relationships uncovered by a model.  \n",
    "\n",
    "The tutorial on single level models, shows how to plot predicted values to illustrate the coefficients within a model using the standard plotting commands provided within R.  Those comfortable with R may well find that they can expand that syntax to plot the relationships uncovered by random intercept and random slope models.  Several R packages are avalaible which can help simplify these processes - they provide \"wrapper commands\" which allow users to create complex graphs through single standardised commands.\n",
    "\n",
    "The \"effects\" package https://cran.r-project.org/web/packages/effects/ is one example of such a package.  A second package is \"sjPlot\" https://cran.r-project.org/web/packages/sjPlot/.\n",
    "\n",
    "Niether of these packages is pre-installed in the Noteable environment.  Therefore, if you wish to use one from within Noteable you will need to use the \"install.packages ()\" command prior to been able to call teh package with the \"library ()\" command.\n",
    "\n",
    "For example, the command below installs the \"sjPlot\" package.  This may take several minutes to install."
   ]
  },
  {
   "cell_type": "code",
   "execution_count": null,
   "metadata": {},
   "outputs": [],
   "source": [
    "install.packages (\"sjPlot\")"
   ]
  },
  {
   "cell_type": "markdown",
   "metadata": {},
   "source": [
    "Once a package is installed, it needs to be loaded via the \"library()\" command as was the case with the libraries called at the start of this tutorial."
   ]
  },
  {
   "cell_type": "code",
   "execution_count": null,
   "metadata": {},
   "outputs": [],
   "source": [
    "library (\"sjPlot\")"
   ]
  },
  {
   "cell_type": "markdown",
   "metadata": {},
   "source": [
    "The \"plot_model\" command is the main command in the \"sjPlot\" package and can be used to plot both fixed and random effects from models created using the \"lme4\" package.\n",
    "\n",
    "The command below shows the basic syntax of the \"plot_model\" command, it plots the average effect of been female on hendomism, as estimated in the random intercept model, \"hedri\".\n",
    "\n",
    "The first argument names the model that contains the relationship to be plotted, in this case \"hedri\" created earlier. \n",
    "\n",
    "\"type=\"pred\"\" means that we want to plot the relationship as estimated by the model, i.e. the predicted (smoothed) relationship rather than the underlying data points.\n",
    "\n",
    "The \"terms\" argument lists the explanatory variables to be included in defining the relationships to be plotted, in this case simply the variable \"female\".\n",
    "\n",
    "Finally, \"pred.type = c(\"fe\")\" tells R that we want to plot the fixed, average, effect for the chosen explanatory variable."
   ]
  },
  {
   "cell_type": "code",
   "execution_count": null,
   "metadata": {},
   "outputs": [],
   "source": [
    "plot_model (hedri, type=\"pred\", terms = c(\"female\"), pred.type = c(\"fe\")) "
   ]
  },
  {
   "cell_type": "markdown",
   "metadata": {},
   "source": [
    "Given \"female\" is a categorical variable, the above plot could be considered unneccsary (only the x-axis values of 0 and 1 are relevant).  However, it does illustarte the negative relationship suggested by the original model.  The shaded area represents the 95% confidence interval for the plotted relationship.\n",
    "\n",
    "Recall that model, \"hedri\" is a random intercept model, hence while the effect of gender on hedonism is held constant across countries, different countries can have different intercepts and hence females/males in different countries will have, on average, different levels of hedonism.  This difference is not shown in the plot above.\n",
    "\n",
    "The command below illustrates how to plot explanatory relationships from a random intercept, taking into account the different intercept values for the level 2 units (countries).\n",
    "\n",
    "Once again, the \"plot_model\" command is used, and the basic setup is as above, passing the name of the model to be used and \"type=\"pred\"\".  However, this time the \"terms\" argument includes not only the explanatory variable the plot is meant to include (\"female\"), but also the variable responsible for the random intercept that should be included (\"country\").  \n",
    "\n",
    "Since the plot needs to account for random effects (in this case the random intercept), the \"pred.type\" argument is updated to read \"re\", telling R to include the random, as well as fixed, effects in the predicted values used to create the plot. \n",
    "\n",
    "Finally, the argument colors = \"gs\" is added to teh command.  This produces a grayscale plot. When graphing arndom effects, the plot will include a seperate line for each country (or more generally, each level 2 unit).  However, the majority of colour palettes avalaible in R contain only a handful of colours.  In the event that a model contains more level 2 units than there are colours in the colour palette chosen, only the first x number of units (equal to the number of colours in the colour palette) will be plotted.  Asking for a grey-scale graph will see R create a different tone of grey for each level 2 unit that needs to be plotted.  \n",
    "\n",
    "This is generally acceptable, if the plot is to be used to illustrate a general pattern within the model, but it can be difficult to identify specific level 2 units, since teh different shades of grey can appear very similar.  Those interested in using colour palettes with a larger number of colours may wish to investigate the \"colorRampPalette\" command https://stat.ethz.ch/R-manual/R-devel/library/grDevices/html/colorRamp.html and associated \"RColorBrewer\" package https://cran.r-project.org/web/packages/RColorBrewer/index.html\n",
    "\n",
    "NB. Confidence intervals are no longer displayed by default since they would likely overlap and lead to a messy, overly complex, graph."
   ]
  },
  {
   "cell_type": "code",
   "execution_count": null,
   "metadata": {},
   "outputs": [],
   "source": [
    "plot_model (hedri, type=\"pred\", terms = c(\"female\", \"country\"), pred.type = c(\"re\"), colors = \"gs\") "
   ]
  },
  {
   "cell_type": "markdown",
   "metadata": {},
   "source": [
    "Plotting a relationship from a random slope model requires indentical syntax to that used to create the fixed effect/random intercept model produced above.  The only difference is that the model passed to the \"plot_model\" command needs to be a random slope model.  For example, the command below plots the relationship between age (centered) and hedonism as estimated in the model \"rs.age2\", while taking account of both the relevant random intercepts and any variation in the imapct of age between countries.\n",
    "\n",
    "Once again, the use of a grey-scale colour scheme can amke it difficult to pick out indivdual countries.  However, unless a country exhibits a truely unique relationship, the interpretation of such garphs is typically concerned with the overall shape of the graph (i.e. do the random slopes group togetehr, or fan out, as discussed in the lecture?)."
   ]
  },
  {
   "cell_type": "code",
   "execution_count": null,
   "metadata": {},
   "outputs": [],
   "source": [
    "plot_model (rs.age2, type=\"pred\", terms = c(\"agesmallcen\", \"country\"), pred.type = c(\"re\"), colors = \"gs\") "
   ]
  },
  {
   "cell_type": "markdown",
   "metadata": {},
   "source": [
    "If time allows you might wish to try plotting some of the other relationships in the different models estimated earlier."
   ]
  },
  {
   "cell_type": "code",
   "execution_count": null,
   "metadata": {},
   "outputs": [],
   "source": []
  }
 ],
 "metadata": {
  "kernelspec": {
   "display_name": "R with Stan",
   "language": "R",
   "name": "ir"
  },
  "language_info": {
   "codemirror_mode": "r",
   "file_extension": ".r",
   "mimetype": "text/x-r-source",
   "name": "R",
   "pygments_lexer": "r",
   "version": "3.6.1"
  }
 },
 "nbformat": 4,
 "nbformat_minor": 2
}
